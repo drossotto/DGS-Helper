{
 "cells": [
  {
   "cell_type": "markdown",
   "metadata": {},
   "source": [
    "To set up and begin running DeepGlycanSite, we first need to create the environment that contains all of its dependencies. I have already established the environment, we just need to run it and make sure its working. "
   ]
  },
  {
   "cell_type": "code",
   "execution_count": null,
   "metadata": {},
   "outputs": [],
   "source": [
    "from pathlib import Path\n",
    "import subprocess\n",
    "\n",
    "import docker\n",
    "import docker.errors\n",
    "from docker.models.containers import Container\n",
    "\n",
    "root = Path().resolve() #Root of this local project directory   \n",
    "\n",
    "try:\n",
    "    client: docker.client.DockerClient = docker.from_env()\n",
    "except Exception as e:\n",
    "    print(e)\n",
    "\n",
    "client"
   ]
  },
  {
   "cell_type": "code",
   "execution_count": null,
   "metadata": {
    "vscode": {
     "languageId": "shellscript"
    }
   },
   "outputs": [],
   "source": [
    "# Run this in command line, not in Jupyter Notebook.\n",
    "\n",
    "!docker compose up --build deepglycansite"
   ]
  },
  {
   "cell_type": "code",
   "execution_count": null,
   "metadata": {},
   "outputs": [],
   "source": [
    "project_name = \"deepglycansite_network\" #Do Not Change\n",
    "service_name = \"deepglycansite\" #Here, choose the docking service you want to use as named in 'docker-compose.yml'\n",
    "\n",
    "containers = client.containers.list(all=True)\n",
    "\n",
    "app_container: Container = None\n",
    "\n",
    "for container in containers:\n",
    "    if f\"{service_name}\" in container.name:\n",
    "        print(f\"Starting container: {container.name}\")\n",
    "        try:\n",
    "            container.start()\n",
    "            print(container.name)\n",
    "            app_container = container\n",
    "            break\n",
    "        except docker.errors.APIError as e:\n",
    "            print(e)\n",
    "    "
   ]
  },
  {
   "cell_type": "code",
   "execution_count": null,
   "metadata": {},
   "outputs": [],
   "source": [
    "in_folder: str = \"janique_run\" #Change to your name\n",
    "ligand_sdf = f\"shared_data/{in_folder}/gangliotriose.sdf\" #Change /folder/example.sdf to the place where your file is in this directory.\n",
    "print(ligand_sdf)\n",
    "receptor_pdb = f\"shared_data/{in_folder}/CBM_A.pdb\" #Change /folder/receptor.pdb the same way\n",
    "print(receptor_pdb)\n",
    "# Ensure the input folder exists in the docker container\n",
    "\n",
    "output_file_name = \"CBM-A_w_gangliotriose.txt\"\n",
    "\n",
    "cmd = f\"mkdir -p {in_folder}\"\n",
    "\n",
    "exit_code, output = app_container.exec_run(cmd)\n",
    "\n",
    "app_container.exec_run(f\"mkdir -p User\")\n",
    "\n",
    "example_path = Path(str(root) + \"/binding_site_files/IQZ2_sites.txt\").resolve()\n",
    "exit_code, output"
   ]
  },
  {
   "cell_type": "code",
   "execution_count": null,
   "metadata": {},
   "outputs": [],
   "source": [
    "cmd = f\"python3 single_case_prediction.py --conf P2Y14_example/hparams.yaml --ckpt_path ckpts/with_ligand.ckpt --input_fn {receptor_pdb},{ligand_sdf} --out_path User/ --output_fn {output_file_name}\""
   ]
  },
  {
   "cell_type": "code",
   "execution_count": null,
   "metadata": {},
   "outputs": [],
   "source": [
    "app_container.exec_run(\n",
    "    cmd\n",
    ")"
   ]
  }
 ],
 "metadata": {
  "kernelspec": {
   "display_name": "Python 3",
   "language": "python",
   "name": "python3"
  },
  "language_info": {
   "codemirror_mode": {
    "name": "ipython",
    "version": 3
   },
   "file_extension": ".py",
   "mimetype": "text/x-python",
   "name": "python",
   "nbconvert_exporter": "python",
   "pygments_lexer": "ipython3",
   "version": "3.13.3"
  }
 },
 "nbformat": 4,
 "nbformat_minor": 2
}
